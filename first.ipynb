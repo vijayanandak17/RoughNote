{
 "cells": [
  {
   "cell_type": "code",
   "execution_count": 14,
   "id": "61a93b22",
   "metadata": {},
   "outputs": [
    {
     "name": "stdout",
     "output_type": "stream",
     "text": [
      "This is a test dile \n"
     ]
    }
   ],
   "source": [
    "file = open(\"notes.txt\",\"r\")\n",
    "content = file.read()\n",
    "print (content)"
   ]
  },
  {
   "cell_type": "code",
   "execution_count": 16,
   "id": "3a4181ef",
   "metadata": {},
   "outputs": [],
   "source": [
    "file = open(\"notes.txt\",\"w\")\n",
    "content = file.write (\"this is ok\")\n",
    "file.close()"
   ]
  },
  {
   "cell_type": "code",
   "execution_count": 20,
   "id": "fc560bf0",
   "metadata": {},
   "outputs": [],
   "source": [
    "file = open(\"notes.txt\",\"a\")\n",
    "content = file.write(\"\\n Content added\")\n",
    "content = file.write(\"new Content added\\n\")\n",
    "file.close()"
   ]
  },
  {
   "cell_type": "code",
   "execution_count": null,
   "id": "b9ffcb0c",
   "metadata": {},
   "outputs": [],
   "source": []
  },
  {
   "cell_type": "code",
   "execution_count": 22,
   "id": "1b1a0338",
   "metadata": {},
   "outputs": [
    {
     "ename": "IndentationError",
     "evalue": "expected an indented block after 'with' statement on line 1 (249814259.py, line 2)",
     "output_type": "error",
     "traceback": [
      "  \u001b[36mCell\u001b[39m\u001b[36m \u001b[39m\u001b[32mIn[22]\u001b[39m\u001b[32m, line 2\u001b[39m\n\u001b[31m    \u001b[39m\u001b[31mcontent = file.read()\u001b[39m\n    ^\n\u001b[31mIndentationError\u001b[39m\u001b[31m:\u001b[39m expected an indented block after 'with' statement on line 1\n"
     ]
    }
   ],
   "source": [
    "with open(\"notes.txt\",\"r\") as file:\n",
    "content = file.read()\n",
    "print (content)"
   ]
  },
  {
   "cell_type": "code",
   "execution_count": 24,
   "id": "b64708ea",
   "metadata": {},
   "outputs": [
    {
     "name": "stdout",
     "output_type": "stream",
     "text": [
      "this is okContent added/n Content added\n",
      " Content added\n",
      " Content addednew Content added\n",
      "\n"
     ]
    }
   ],
   "source": [
    "with open(\"notes.txt\") as file:\n",
    "    content=file.read()\n",
    "    print (content)"
   ]
  },
  {
   "cell_type": "code",
   "execution_count": null,
   "id": "fed2b52a",
   "metadata": {},
   "outputs": [
    {
     "data": {
      "text/plain": [
       "'c:\\\\Users\\\\Vijay\\\\Desktop\\\\python-tutorial'"
      ]
     },
     "execution_count": 26,
     "metadata": {},
     "output_type": "execute_result"
    }
   ],
   "source": [
    "import os\n",
    "os.getcwd()\n"
   ]
  },
  {
   "cell_type": "code",
   "execution_count": 29,
   "id": "9f573f5f",
   "metadata": {},
   "outputs": [],
   "source": [
    "os.mkdir (\"Test\")"
   ]
  },
  {
   "cell_type": "code",
   "execution_count": 30,
   "id": "528ecb51",
   "metadata": {},
   "outputs": [
    {
     "data": {
      "text/plain": [
       "['first.ipynb', 'notes.txt', 'Test', 'test.py', 'vijay']"
      ]
     },
     "execution_count": 30,
     "metadata": {},
     "output_type": "execute_result"
    }
   ],
   "source": [
    "os.listdir()"
   ]
  },
  {
   "cell_type": "code",
   "execution_count": 31,
   "id": "657ba7aa",
   "metadata": {},
   "outputs": [
    {
     "data": {
      "text/plain": [
       "'c:\\\\Users\\\\Vijay\\\\Desktop\\\\python-tutorial'"
      ]
     },
     "execution_count": 31,
     "metadata": {},
     "output_type": "execute_result"
    }
   ],
   "source": [
    "import os\n",
    "os.getcwd()"
   ]
  },
  {
   "cell_type": "code",
   "execution_count": 32,
   "id": "01d0616d",
   "metadata": {},
   "outputs": [],
   "source": [
    "os.mkdir(\"Test\")"
   ]
  },
  {
   "cell_type": "code",
   "execution_count": 34,
   "id": "f1f040ee",
   "metadata": {},
   "outputs": [
    {
     "data": {
      "text/plain": [
       "['first.ipynb', 'notes.txt', 'Test', 'vijay']"
      ]
     },
     "execution_count": 34,
     "metadata": {},
     "output_type": "execute_result"
    }
   ],
   "source": [
    "os.listdir()"
   ]
  }
 ],
 "metadata": {
  "kernelspec": {
   "display_name": "Python 3",
   "language": "python",
   "name": "python3"
  },
  "language_info": {
   "codemirror_mode": {
    "name": "ipython",
    "version": 3
   },
   "file_extension": ".py",
   "mimetype": "text/x-python",
   "name": "python",
   "nbconvert_exporter": "python",
   "pygments_lexer": "ipython3",
   "version": "3.11.0"
  }
 },
 "nbformat": 4,
 "nbformat_minor": 5
}
